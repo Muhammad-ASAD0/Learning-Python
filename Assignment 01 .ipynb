{
 "cells": [
  {
   "cell_type": "markdown",
   "id": "b536191c",
   "metadata": {},
   "source": [
    "# Assignment 01 "
   ]
  },
  {
   "cell_type": "code",
   "execution_count": 59,
   "id": "ff71139f",
   "metadata": {},
   "outputs": [
    {
     "name": "stdout",
     "output_type": "stream",
     "text": [
      "Twinkle, twinkle, little star, \n",
      "\t How I wonder what you are! \n",
      "\t\t Up above the world so high, \n",
      "\t\t Like a diamond in the sky. \n",
      " Twinkle, twinkle, little star, \n",
      "\t How I wonder what you are!\n"
     ]
    }
   ],
   "source": [
    "print(\"Twinkle, twinkle, little star, \\n\\t How I wonder what you are! \\n\\t\\t Up above the world so high, \\n\\t\\t Like a diamond in the sky. \\n Twinkle, twinkle, little star, \\n\\t How I wonder what you are!\") "
   ]
  },
  {
   "cell_type": "code",
   "execution_count": 26,
   "id": "b9fff54d",
   "metadata": {},
   "outputs": [
    {
     "name": "stdout",
     "output_type": "stream",
     "text": [
      "Python version\n",
      "3.9.7 (default, Sep 16 2021, 16:59:28) [MSC v.1916 64 bit (AMD64)]\n"
     ]
    }
   ],
   "source": [
    "import sys\n",
    "print(\"Python version\");\n",
    "print (sys.version);"
   ]
  },
  {
   "cell_type": "code",
   "execution_count": 38,
   "id": "dc4aba99",
   "metadata": {},
   "outputs": [
    {
     "name": "stdout",
     "output_type": "stream",
     "text": [
      "current date = 2021-12-31 21:21:12.435933\n",
      "date and time = 31/12/2021 21:18:57\n"
     ]
    }
   ],
   "source": [
    "from datetime import datetime;\n",
    "\n",
    "date = datetime.now()\n",
    " \n",
    "print(\"current date =\", date)\n",
    "\n",
    "# dd/mm/YY H:M:S\n",
    "dt_string = now.strftime(\"%d/%m/%Y %H:%M:%S\")\n",
    "print(\"date and time =\", dt_string)\t\n"
   ]
  },
  {
   "cell_type": "code",
   "execution_count": 47,
   "id": "456782ca",
   "metadata": {},
   "outputs": [
    {
     "name": "stdout",
     "output_type": "stream",
     "text": [
      "Enter radius of circle : 5\n",
      "Area of the circle is: 78.53981633974483\n"
     ]
    }
   ],
   "source": [
    "from math import pi\n",
    "r = float(input (\"Enter radius of circle : \"));\n",
    "print (\"Area of the circle is: \" + str(pi * r**2));"
   ]
  },
  {
   "cell_type": "code",
   "execution_count": 44,
   "id": "ce37cf3a",
   "metadata": {},
   "outputs": [
    {
     "name": "stdout",
     "output_type": "stream",
     "text": [
      "Input your First Name : asad\n",
      "Input your Last Name : muhammad\n",
      "Hello  muhammad asad\n"
     ]
    }
   ],
   "source": [
    "firstname = input(\"Input your First Name : \");\n",
    "lastname = input(\"Input your Last Name : \");\n",
    "print (\"Hello  \" + lastname + \" \" + firstname);"
   ]
  },
  {
   "cell_type": "code",
   "execution_count": 58,
   "id": "88f3df80",
   "metadata": {
    "scrolled": false
   },
   "outputs": [
    {
     "name": "stdout",
     "output_type": "stream",
     "text": [
      "Input your First Number : 5\n",
      "Input your Last Number :5\n",
      "10\n"
     ]
    }
   ],
   "source": [
    "firstno = int(input(\"Input your First Number : \"));\n",
    "lastno = int(input(\"Input your Last Number :\" ));\n",
    "sum = firstno + lastno; \n",
    "print (sum);"
   ]
  }
 ],
 "metadata": {
  "kernelspec": {
   "display_name": "Python 3 (ipykernel)",
   "language": "python",
   "name": "python3"
  },
  "language_info": {
   "codemirror_mode": {
    "name": "ipython",
    "version": 3
   },
   "file_extension": ".py",
   "mimetype": "text/x-python",
   "name": "python",
   "nbconvert_exporter": "python",
   "pygments_lexer": "ipython3",
   "version": "3.9.7"
  }
 },
 "nbformat": 4,
 "nbformat_minor": 5
}
