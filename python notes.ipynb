{
 "cells": [
  {
   "cell_type": "markdown",
   "id": "fc708315",
   "metadata": {},
   "source": [
    "Basic data types: \n",
    "    int: represents integers (whole numbers)\n",
    "    float: represents real numbers (numbers with decimal points)\n",
    "    str: represents strings (sequences of characters)\n",
    "    bool: represents boolean values (True or False)"
   ]
  },
  {
   "cell_type": "code",
   "execution_count": null,
   "id": "2f06f8b0",
   "metadata": {},
   "outputs": [],
   "source": [
    "# integers\n",
    "x = 5\n",
    "y = -10\n",
    "\n",
    "# real numbers (float)\n",
    "z = 3.14\n",
    "\n",
    "# string\n",
    "s = \"hello\"\n",
    "\n",
    "# boolean\n",
    "flag = True"
   ]
  },
  {
   "cell_type": "markdown",
   "id": "941d72c7",
   "metadata": {},
   "source": [
    "Variables:\n",
    "    Declaring a variable: x = 5\n",
    "    Reassigning a variable: x = 10\n",
    "    Types are determined automatically: x = \"hello\""
   ]
  },
  {
   "cell_type": "code",
   "execution_count": null,
   "id": "ffa74aae",
   "metadata": {},
   "outputs": [],
   "source": [
    "# Declaring a variable\n",
    "x = 5\n",
    "\n",
    "# Reassigning a variable\n",
    "x = 10\n",
    "\n",
    "# Types are determined automatically\n",
    "x = \"hello\"  # x is now a string\n"
   ]
  },
  {
   "cell_type": "markdown",
   "id": "c185cc64",
   "metadata": {},
   "source": [
    "Collections:\n",
    "    list: an ordered collection of items (can be of mixed types)\n",
    "    tuple: an immutable ordered collection of items (can be of mixed types)\n",
    "    set: an unordered collection of unique items\n",
    "    dict: an unordered collection of key-value pairs"
   ]
  },
  {
   "cell_type": "code",
   "execution_count": null,
   "id": "9a30295e",
   "metadata": {},
   "outputs": [],
   "source": [
    "# list\n",
    "fruits = [\"apple\", \"banana\", \"cherry\"]\n",
    "\n",
    "# tuple\n",
    "coordinates = (4, 5)\n",
    "\n",
    "# set\n",
    "s = {1, 2, 3}\n",
    "\n",
    "# dict (dictionary)\n",
    "ages = {\"Alice\": 25, \"Bob\": 30, \"Eve\": 35}\n"
   ]
  },
  {
   "cell_type": "markdown",
   "id": "83028943",
   "metadata": {},
   "source": [
    "Control flow:\n",
    "    if statements: if x > 5:\n",
    "    for loops: for x in range(5):\n",
    "    while loops: while x > 0:"
   ]
  },
  {
   "cell_type": "code",
   "execution_count": null,
   "id": "11f1c0dd",
   "metadata": {},
   "outputs": [],
   "source": [
    "# if statement\n",
    "if x > 5:\n",
    "  print(\"x is greater than 5\")\n",
    "elif x < 5:\n",
    "  print(\"x is less than 5\")\n",
    "else:\n",
    "  print(\"x is equal to 5\")\n",
    "\n",
    "# for loop\n",
    "for i in range(5):\n",
    "  print(i)\n",
    "\n",
    "# while loop\n",
    "i = 0\n",
    "while i < 5:\n",
    "  print(i)\n",
    "  i += 1\n"
   ]
  },
  {
   "cell_type": "markdown",
   "id": "58084db6",
   "metadata": {},
   "source": [
    "Functions:\n",
    "    Defining a function: def greet(name):\n",
    "    Calling a function: greet(\"Alice\")\n",
    "    Returning a value from a function: return \"Hello, \" + name"
   ]
  },
  {
   "cell_type": "code",
   "execution_count": null,
   "id": "e5852eb0",
   "metadata": {},
   "outputs": [],
   "source": [
    "# Defining a function\n",
    "def greet(name):\n",
    "  return \"Hello, \" + name\n",
    "\n",
    "# Calling a function\n",
    "print(greet(\"Alice\"))  # prints \"Hello, Alice\"\n"
   ]
  },
  {
   "cell_type": "code",
   "execution_count": null,
   "id": "162915cc",
   "metadata": {},
   "outputs": [],
   "source": [
    "Classes:\n",
    "    Defining a class: class Dog:\n",
    "    Instantiating an object: dog1 = Dog()\n",
    "    Accessing object attributes: dog1.name\n",
    "    Defining object methods: def bark(self):"
   ]
  },
  {
   "cell_type": "code",
   "execution_count": null,
   "id": "89d01db6",
   "metadata": {},
   "outputs": [],
   "source": [
    "# Defining a class\n",
    "class Dog:\n",
    "  def __init__(self, name):\n",
    "    self.name = name\n",
    "  \n",
    "  def bark(self):\n",
    "    print(\"Woof!\")\n",
    "\n",
    "# Instantiating an object\n",
    "dog1 = Dog(\"Fido\")\n",
    "\n",
    "# Accessing object attributes\n",
    "print(dog1.name)  # prints \"Fido\"\n",
    "\n",
    "# Calling object methods\n",
    "dog1.bark()  # prints \"Woof!\"\n"
   ]
  },
  {
   "cell_type": "markdown",
   "id": "3f9e774a",
   "metadata": {},
   "source": [
    "Modules:\n",
    "    \n",
    "You can use import to include a module in your program. For example, to include the math module:\n",
    "    import math\n",
    "    \n",
    "You can use the dot notation to access functions and variables defined in the module. For example:\n",
    "    result = math.sqrt(25)\n",
    "    \n",
    "You can also use from ... import ... to import specific functions or variables from a module. For example:\n",
    "    from math import sqrt\n",
    "    \n",
    "You can use as to give an imported module or function a different name. For example:\n",
    "    import math as m\n",
    "    from math import sqrt as square_root"
   ]
  },
  {
   "cell_type": "markdown",
   "id": "24eb330d",
   "metadata": {},
   "source": [
    "Exception handling:\n",
    "    You can use try and except statements to handle exceptions (run-time errors). For example:"
   ]
  },
  {
   "cell_type": "code",
   "execution_count": null,
   "id": "7432ac15",
   "metadata": {},
   "outputs": [],
   "source": [
    "try:\n",
    "  x = 5 / 0\n",
    "except ZeroDivisionError:\n",
    "  print(\"You can't divide by zero!\")\n"
   ]
  },
  {
   "cell_type": "markdown",
   "id": "6578470c",
   "metadata": {},
   "source": [
    "Regular expressions:\n",
    "    \n",
    "You can use the re module to work with regular expressions (patterns used to match strings).\n",
    "    For example, to search for a pattern in a string:"
   ]
  },
  {
   "cell_type": "code",
   "execution_count": null,
   "id": "f1414e0f",
   "metadata": {},
   "outputs": [],
   "source": [
    "import re\n",
    "\n",
    "string = \"The quick brown fox\"\n",
    "\n",
    "# Check if the pattern \"fox\" is in the string\n",
    "match = re.search(\"fox\", string)\n",
    "\n",
    "if match:\n",
    "  print(\"Match found!\")\n",
    "else:\n",
    "  print(\"Match not found.\")\n"
   ]
  },
  {
   "cell_type": "markdown",
   "id": "f0d8a235",
   "metadata": {},
   "source": [
    "Generators:\n",
    "    \n",
    "Generators are functions that use the yield keyword to return a value, but unlike normal functions, they do not exit after returning a value. Instead, they yield the value and pause their execution until the next time they are called.\n",
    "\n",
    "Generators can be used to create iterators that return a stream of values, one at a time, instead of creating a large data structure to hold all of the values at once.\n",
    "\n",
    "For example, here is a generator function that yields the next number in the Fibonacci sequence each time it is called:"
   ]
  },
  {
   "cell_type": "code",
   "execution_count": null,
   "id": "4cb0cabd",
   "metadata": {},
   "outputs": [],
   "source": [
    "def fibonacci():\n",
    "  a, b = 0, 1\n",
    "  while True:\n",
    "    yield a\n",
    "    a, b = b, a + b\n",
    "\n",
    "# Create a generator object\n",
    "fib = fibonacci()\n",
    "\n",
    "# Print the next 10 values\n",
    "for i in range(10):\n",
    "  print(next(fib))\n"
   ]
  },
  {
   "cell_type": "markdown",
   "id": "162fa5f5",
   "metadata": {},
   "source": [
    "Decorators:\n",
    "    \n",
    "Decorators are functions that modify the behavior of another function.\n",
    "They are defined using the @ symbol, followed by the name of the decorator function.\n",
    "\n",
    "For example, here is a decorator that prints a message before and after the decorated function is called:"
   ]
  },
  {
   "cell_type": "code",
   "execution_count": null,
   "id": "0337a682",
   "metadata": {},
   "outputs": [],
   "source": [
    "def trace(func):\n",
    "  def wrapper(*args, **kwargs):\n",
    "    print(f\"Tracing {func.__name__}()\")\n",
    "    result = func(*args, **kwargs)\n",
    "    print(f\"Result: {result}\")\n",
    "    return result\n",
    "  return wrapper\n",
    "\n",
    "@trace\n",
    "def add(x, y):\n",
    "  return x + y\n",
    "\n",
    "# The add() function is decorated, so the trace() function is called before and after it\n",
    "add(5, 6)\n"
   ]
  },
  {
   "cell_type": "markdown",
   "id": "74c12f5d",
   "metadata": {},
   "source": [
    "Lambda functions:\n",
    "\n",
    "Lambda functions are small anonymous functions that are defined using the lambda keyword.\n",
    "They are often used as inline functions when a simple function is needed for a short period of time.\n",
    "    For example, here is a lambda function that adds two numbers:"
   ]
  },
  {
   "cell_type": "code",
   "execution_count": null,
   "id": "41a21152",
   "metadata": {},
   "outputs": [],
   "source": [
    "add = lambda x, y: x + y\n",
    "result = add(5, 6)\n",
    "print(result)  # prints 11\n"
   ]
  },
  {
   "cell_type": "markdown",
   "id": "30ef4893",
   "metadata": {},
   "source": [
    "Map and filter:\n",
    "\n",
    "map() is a built-in function that applies a function to each element of an iterable (such as a list) and returns a new iterator with the modified elements.\n",
    "\n",
    "filter() is a built-in function that filters an iterable by removing elements that do not match a certain condition.\n",
    "For example:"
   ]
  },
  {
   "cell_type": "code",
   "execution_count": 1,
   "id": "8741a22d",
   "metadata": {},
   "outputs": [
    {
     "name": "stdout",
     "output_type": "stream",
     "text": [
      "[2, 4, 6, 8]\n",
      "[3, 4]\n"
     ]
    }
   ],
   "source": [
    "# Multiply all elements in a list by 2\n",
    "numbers = [1, 2, 3, 4]\n",
    "result = map(lambda x: x * 2, numbers)\n",
    "print(list(result))  # prints [2, 4, 6, 8]\n",
    "\n",
    "# Get all elements in a list that are greater than 2\n",
    "numbers = [1, 2, 3, 4]\n",
    "result = filter(lambda x: x > 2, numbers)\n",
    "print(list(result))  # prints [3, 4]\n"
   ]
  },
  {
   "cell_type": "markdown",
   "id": "f67f4376",
   "metadata": {},
   "source": [
    "Context managers:\n",
    "\n",
    "Context managers are used to manage resources that need to be initialized and cleaned up, such as file streams or database connections.\n",
    "They are defined using the with statement and the yield keyword.\n",
    "    For example, here is a context manager that opens and closes a file:"
   ]
  },
  {
   "cell_type": "code",
   "execution_count": null,
   "id": "600b4098",
   "metadata": {},
   "outputs": [],
   "source": [
    "class File:\n",
    "  def __init__(self, filename, mode):\n",
    "    self.filename = filename\n",
    "    self.mode = mode\n",
    "  \n",
    "  def __enter__(self):\n",
    "    self.file = open(self.filename, self.mode)\n",
    "    return self.file\n",
    "  \n",
    "  def __exit__(self, exc_type, exc_val, exc_tb):\n",
    "    self.file.close()\n",
    "\n",
    "# Use the File context manager to open a file\n",
    "with File(\"test.txt\", \"w\") as f:\n",
    "  f.write(\"Hello, world!\")\n"
   ]
  },
  {
   "cell_type": "markdown",
   "id": "17ea19a6",
   "metadata": {},
   "source": [
    "Itertools:\n",
    "\n",
    "The itertools module provides a variety of functions for working with iterators, such as creating infinite iterators or combining multiple iterators into a single iterator.\n",
    "\n",
    "For example, here is how you can use itertools.count() to create an infinite iterator that returns consecutive integers:\n"
   ]
  },
  {
   "cell_type": "code",
   "execution_count": null,
   "id": "459bc660",
   "metadata": {},
   "outputs": [],
   "source": [
    "import itertools\n",
    "\n",
    "# Create an infinite iterator that returns consecutive integers\n",
    "counter = itertools.count()\n",
    "\n",
    "# Print the first 10 values\n",
    "for i in range(10):\n",
    "  print(next(counter))\n"
   ]
  },
  {
   "cell_type": "markdown",
   "id": "611fc250",
   "metadata": {},
   "source": [
    "Ternary operator:\n",
    "\n",
    "The ternary operator is a shorthand way of writing an if-else statement.\n",
    "It is defined using the ? and : symbols.\n",
    "\n",
    "For example, here is how you can use the ternary operator to assign a value to a variable based on a condition:"
   ]
  },
  {
   "cell_type": "code",
   "execution_count": null,
   "id": "8ebf5db0",
   "metadata": {},
   "outputs": [],
   "source": [
    "x = 5\n",
    "y = 10\n",
    "\n",
    "# If x is less than y, z gets the value \"smaller\". Otherwise, z gets the value \"larger\".\n",
    "z = \"smaller\" if x < y else \"larger\"\n"
   ]
  },
  {
   "cell_type": "markdown",
   "id": "7f5f9c94",
   "metadata": {},
   "source": [
    "Unpacking:\n",
    "You can unpack a sequence or iterable into separate variables using the * operator.\n",
    "For example:"
   ]
  },
  {
   "cell_type": "code",
   "execution_count": null,
   "id": "2df2e3b7",
   "metadata": {},
   "outputs": [],
   "source": [
    "# Unpack a list into separate variables\n",
    "numbers = [1, 2, 3, 4]\n",
    "a, b, c, d = numbers\n",
    "print(a)  # prints 1\n",
    "print(b)  # prints 2\n",
    "print(c)  # prints 3\n",
    "print(d)  # prints 4\n",
    "\n",
    "# Unpack a string into separate variables\n",
    "string = \"hello\"\n",
    "a, b, c, d, e = string\n",
    "print(a)  # prints \"h\"\n",
    "print(b)  # prints \"e\"\n",
    "print(c)  # prints \"l\"\n",
    "print(d)  # prints \"l\"\n",
    "print(e)  # prints \"o\"\n"
   ]
  },
  {
   "cell_type": "markdown",
   "id": "198a4dc3",
   "metadata": {},
   "source": [
    "List comprehension:\n",
    "\n",
    "List comprehension is a concise way of creating a new list from an existing iterable.\n",
    "It is defined using brackets and a single line of code that specifies the transformation to be applied to each element in the iterable.\n",
    "\n",
    "For example:"
   ]
  },
  {
   "cell_type": "code",
   "execution_count": null,
   "id": "24e8fb06",
   "metadata": {},
   "outputs": [],
   "source": [
    "# Get the squares of the first 10 numbers\n",
    "numbers = range(1, 11)\n",
    "squares = [x**2 for x in numbers]\n",
    "print(squares)  # prints [1, 4, 9, 16, 25, 36, 49, 64, 81, 100]\n",
    "\n",
    "# Get all words in a string that are at least 5 characters long\n",
    "string = \"The quick brown fox jumps over the lazy dog.\"\n",
    "long_words = [word for word in string.split() if len(word) >= 5]\n",
    "print(long_words)  # prints [\"quick\", \"brown\", \"jumps\"]\n"
   ]
  },
  {
   "cell_type": "markdown",
   "id": "9e5b239e",
   "metadata": {},
   "source": [
    "Enumerate:\n",
    "\n",
    "enumerate() is a built-in function that takes an iterable and returns an iterator that yields pairs of values: the index of the current element and the element itself.\n",
    "It is often used to loop over a list and access both the index and the value of each element.\n",
    "\n",
    "For example:"
   ]
  },
  {
   "cell_type": "code",
   "execution_count": null,
   "id": "0e32446f",
   "metadata": {},
   "outputs": [],
   "source": [
    "# Print the index and value of each element in a list\n",
    "numbers = [1, 2, 3, 4]\n",
    "for i, n in enumerate(numbers):\n",
    "  print(f\"Index: {i}, Value: {n}\")\n"
   ]
  },
  {
   "cell_type": "markdown",
   "id": "a3fab4b2",
   "metadata": {},
   "source": [
    "Zip:\n",
    "\n",
    "zip() is a built-in function that takes two or more iterables and returns an iterator that combines the elements of each iterable into tuples.\n",
    "It is often used to loop over multiple lists simultaneously.\n",
    "\n",
    "For example:"
   ]
  },
  {
   "cell_type": "code",
   "execution_count": null,
   "id": "05559b1c",
   "metadata": {},
   "outputs": [],
   "source": [
    "# Print the elements of two lists side by side\n",
    "a = [1, 2, 3]\n",
    "b = [\"a\", \"b\", \"c\"]\n",
    "for x, y in zip(a, b):\n",
    "  print(f\"{x}, {y}\")\n"
   ]
  },
  {
   "cell_type": "markdown",
   "id": "5758b19e",
   "metadata": {},
   "source": [
    "Assert:\n",
    "    \n",
    "assert is a keyword that is used to test a condition and raise an exception if the condition is False.\n",
    "It is often used to check the validity of arguments or intermediate results in a program.\n",
    "\n",
    "For example:"
   ]
  },
  {
   "cell_type": "code",
   "execution_count": null,
   "id": "f8b2e186",
   "metadata": {},
   "outputs": [],
   "source": [
    "def divide(x, y):\n",
    "  assert y != 0, \"Division by zero\"\n",
    "  return x / y\n",
    "\n",
    "# This call to divide() will raise an AssertionError\n",
    "divide(5, 0)\n"
   ]
  },
  {
   "cell_type": "markdown",
   "id": "99c4c68d",
   "metadata": {},
   "source": [
    "Args and kwargs:\n",
    "\n",
    "*args and * *kwargs are special keywords that can be used in function definitions to allow a variable number of arguments to be passed to the function.\n",
    "\n",
    "*args is used to pass a variable number of positional arguments to a function, and * *kwargs is used to pass a variable number of keyword arguments.\n",
    "\n",
    "The arguments passed to the function using *args and * *kwargs are stored in a tuple and a dictionary, respectively.\n",
    "\n",
    "For example:"
   ]
  },
  {
   "cell_type": "code",
   "execution_count": null,
   "id": "60209360",
   "metadata": {},
   "outputs": [],
   "source": [
    "def print_info(name, *args, **kwargs):\n",
    "  print(f\"Name: {name}\")\n",
    "  print(f\"Args: {args}\")\n",
    "  print(f\"Keyword args: {kwargs}\")\n",
    "\n",
    "# Call the function with different arguments\n",
    "print_info(\"John\", 1, 2, 3, age=30, city=\"New York\")\n",
    "\n",
    "# Output:\n",
    "# Name: John\n",
    "# Args: (1, 2, 3)\n",
    "# Keyword args: {'age': 30, 'city': 'New York'}\n"
   ]
  },
  {
   "cell_type": "markdown",
   "id": "9d94f816",
   "metadata": {},
   "source": [
    "Property decorator:\n",
    "\n",
    "The @property decorator is used to define a method as a \"getter\" for a class attribute.\n",
    "It is often used to define a method that is used to retrieve the value of an attribute, but is called like an attribute without parentheses.\n",
    "    \n",
    "For example:"
   ]
  },
  {
   "cell_type": "code",
   "execution_count": null,
   "id": "81ef14f7",
   "metadata": {},
   "outputs": [],
   "source": [
    "class Person:\n",
    "  def __init__(self, name, age):\n",
    "    self._name = name\n",
    "    self._age = age\n",
    "  \n",
    "  @property\n",
    "  def name(self):\n",
    "    return self._name\n",
    "  \n",
    "  @property\n",
    "  def age(self):\n",
    "    return self._age\n",
    "\n",
    "# Create a Person object\n",
    "person = Person(\"John\", 30)\n",
    "\n",
    "# Call the \"name\" and \"age\" attributes\n",
    "print(person.name)  # prints \"John\"\n",
    "print(person.age)  # prints 30\n"
   ]
  },
  {
   "cell_type": "markdown",
   "id": "84950dc4",
   "metadata": {},
   "source": [
    "Type hints:\n",
    "\n",
    "Type hints are a feature of Python that allows you to specify the type of a variable or argument in a function definition.\n",
    "They are not enforced by the interpreter, but they can be used by static analysis tools to check the correctness of your code.\n",
    "Type hints are defined using the typing module and are written as comments using the # symbol.\n",
    "\n",
    "For example:"
   ]
  },
  {
   "cell_type": "code",
   "execution_count": null,
   "id": "e02ecd89",
   "metadata": {},
   "outputs": [],
   "source": [
    "from typing import List\n",
    "\n",
    "def sum_numbers(numbers: List[int]) -> int:\n",
    "  result = 0\n",
    "  for n in numbers:\n",
    "    result += n\n",
    "  return result\n",
    "\n",
    "# Call the function with a list of integers\n",
    "print(sum_numbers([1, 2, 3, 4]))  # prints 10\n"
   ]
  },
  {
   "cell_type": "markdown",
   "id": "d183b437",
   "metadata": {},
   "source": [
    "The break keyword is used to exit a loop early, before the loop condition is no longer True. \n",
    "In the example below, the loop iterates over the numbers from 1 to 10, but the break statement is executed when the loop variable i reaches 5, causing the loop to exit before it reaches the end of the range."
   ]
  },
  {
   "cell_type": "code",
   "execution_count": null,
   "id": "768dd499",
   "metadata": {},
   "outputs": [],
   "source": [
    "# Print the numbers from 1 to 10, but stop at 5\n",
    "for i in range(1, 11):\n",
    "  if i == 5:\n",
    "    break\n",
    "  print(i)\n",
    "\n",
    "# Output: 1 2 3 4\n"
   ]
  },
  {
   "cell_type": "markdown",
   "id": "84976664",
   "metadata": {},
   "source": [
    "The continue keyword is used to skip the rest of the current iteration of a loop and move on to the next iteration. \n",
    "\n",
    "In the example below, the loop iterates over the numbers from 1 to 10, but the continue statement is executed when the loop variable i is even, causing the loop to skip the rest of the current iteration and move on to the next one."
   ]
  },
  {
   "cell_type": "code",
   "execution_count": null,
   "id": "13b22665",
   "metadata": {},
   "outputs": [],
   "source": [
    "# Print the numbers from 1 to 10, but skip the even numbers\n",
    "for i in range(1, 11):\n",
    "  if i % 2 == 0:\n",
    "    continue\n",
    "  print(i)\n",
    "\n",
    "# Output: 1 3 5 7 9\n"
   ]
  },
  {
   "cell_type": "markdown",
   "id": "13089271",
   "metadata": {},
   "source": [
    "In Python, arguments are values that are passed to a function when the function is called. The function can then use these arguments to perform its task and return a result.\n",
    "\n",
    "Here is an example of a function that takes two arguments and returns their sum:"
   ]
  },
  {
   "cell_type": "code",
   "execution_count": null,
   "id": "2e22ed5a",
   "metadata": {},
   "outputs": [],
   "source": [
    "def add(x, y):\n",
    "  return x + y\n",
    "\n",
    "# Call the function with different arguments\n",
    "result = add(5, 6)\n",
    "print(result)  # prints 11\n",
    "\n",
    "result = add(-3, 7)\n",
    "print(result)  # prints 4\n"
   ]
  },
  {
   "cell_type": "markdown",
   "id": "ad4b7fa1",
   "metadata": {},
   "source": [
    "In this example, the add() function takes two arguments: x and y. When the function is called, the values of the arguments are passed to the function and are used to calculate the sum. The function then returns the sum, which can be stored in a variable or printed to the screen."
   ]
  },
  {
   "cell_type": "markdown",
   "id": "98565b8d",
   "metadata": {},
   "source": [
    "A method is a function that is associated with an object and is used to perform an operation on the object. In Python, lists have a number of built-in methods that can be used to manipulate the list and perform various operations on it.\n",
    "\n",
    "Here are a few examples of list methods in Python:\n",
    "\n",
    "append(): adds an element to the end of the list\n",
    "extend(): adds elements from another iterable to the end of the list\n",
    "insert(): inserts an element at a specific position in the list\n",
    "remove(): removes the first occurrence of a specific element from the list\n",
    "sort(): sorts the elements of the list in ascending order\n",
    "reverse(): reverses the order of the elements in the list\n",
    "\n",
    "Here is an example of how to use some of these methods:"
   ]
  },
  {
   "cell_type": "code",
   "execution_count": null,
   "id": "ff4df51f",
   "metadata": {},
   "outputs": [],
   "source": [
    "# Create an empty list\n",
    "numbers = []\n",
    "\n",
    "# Add an element to the end of the list using append()\n",
    "numbers.append(1)\n",
    "print(numbers)  # prints [1]\n",
    "\n",
    "# Add elements from another list to the end of the list using extend()\n",
    "numbers.extend([2, 3, 4])\n",
    "print(numbers)  # prints [1, 2, 3, 4]\n",
    "\n",
    "# Insert an element at a specific position in the list using insert()\n",
    "numbers.insert(2, 0)\n",
    "print(numbers)  # prints [1, 2, 0, 3, 4]\n"
   ]
  },
  {
   "cell_type": "code",
   "execution_count": null,
   "id": "c9271ce3",
   "metadata": {},
   "outputs": [],
   "source": [
    "# Create a list of numbers\n",
    "numbers = [5, 2, 1, 4, 3]\n",
    "\n",
    "# Remove the first occurrence of a specific element from the list\n",
    "numbers.remove(4)\n",
    "print(numbers)  # prints [5, 2, 1, 3]\n",
    "\n",
    "# Sort the elements of the list in ascending order\n",
    "numbers.sort()\n",
    "print(numbers)  # prints [1, 2, 3, 5]\n",
    "\n",
    "# Reverse the order of the elements in the list\n",
    "numbers.reverse()\n",
    "print(numbers)  # prints [5, 3, 2, 1]\n"
   ]
  },
  {
   "cell_type": "markdown",
   "id": "06a3b60c",
   "metadata": {},
   "source": [
    "Here are a few more list methods that you might find useful:\n",
    "\n",
    "pop(): removes and returns the element at a specific position in the list (or the last element if no position is specified)\n",
    "clear(): removes all elements from the list\n",
    "index(): returns the index of the first occurrence of a specific element in the list\n",
    "count(): returns the number of occurrences of a specific element in the list\n",
    "copy(): creates a copy of the list\n",
    "\n",
    "Here is an example of how to use some of these methods:"
   ]
  },
  {
   "cell_type": "code",
   "execution_count": null,
   "id": "67cf44c1",
   "metadata": {},
   "outputs": [],
   "source": [
    "# Create a list of numbers\n",
    "numbers = [5, 2, 1, 4, 3]\n",
    "\n",
    "# Remove and return the element at a specific position in the list\n",
    "element = numbers.pop(2)\n",
    "print(element)  # prints 1\n",
    "print(numbers)  # prints [5, 2, 4, 3]\n",
    "\n",
    "# Remove all elements from the list\n",
    "numbers.clear()\n",
    "print(numbers)  # prints []\n",
    "\n",
    "# Get the index of the first occurrence of a specific element in the list\n",
    "numbers = [5, 2, 1, 4, 3, 2]\n",
    "index = numbers.index(2)\n",
    "print(index)  # prints 1\n",
    "\n",
    "# Get the number of occurrences of a specific element in the list\n",
    "count = numbers.count(2)\n",
    "print(count)  # prints 2\n",
    "\n",
    "# Create a copy of the list\n",
    "copy = numbers.copy()\n",
    "print(copy)  # prints [5, 2, 1, 4, 3, 2]\n"
   ]
  },
  {
   "cell_type": "markdown",
   "id": "a1cf35b1",
   "metadata": {},
   "source": [
    "A tuple is an immutable sequence type in Python. \n",
    "\n",
    "This means that once you create a tuple, you cannot change the values it contains: you cannot add, remove, or modify the values of the tuple. However, you can still perform various operations on tuples, such as accessing and slicing elements, concatenating and repeating tuples, and comparing tuples.\n",
    "\n",
    "Here is an example of how to create and manipulate a tuple in Python:"
   ]
  },
  {
   "cell_type": "code",
   "execution_count": null,
   "id": "bd9fc9d3",
   "metadata": {},
   "outputs": [],
   "source": [
    "# Create a tuple with three elements\n",
    "t = (1, 2, 3)\n",
    "\n",
    "# Access an element of the tuple by its index\n",
    "print(t[0])  # prints 1\n",
    "\n",
    "# Slice the tuple to get a sub-tuple\n",
    "print(t[1:])  # prints (2, 3)\n",
    "\n",
    "# Concatenate two tuples using the + operator\n",
    "t2 = (4, 5)\n",
    "t3 = t + t2\n",
    "print(t3)  # prints (1, 2, 3, 4, 5)\n",
    "\n",
    "# Repeat the tuple using the * operator\n",
    "t4 = t * 3\n",
    "print(t4)  # prints (1, 2, 3, 1, 2, 3, 1, 2, 3)\n",
    "\n",
    "# Compare two tuples using comparison operators\n",
    "t5 = (1, 2, 3)\n",
    "t6 = (1, 2, 4)\n",
    "print(t5 == t6)  # prints False\n",
    "print(t5 < t6)  # prints True\n"
   ]
  },
  {
   "cell_type": "markdown",
   "id": "5743ba58",
   "metadata": {},
   "source": [
    "In Python, an f-string is a string literal that is prefixed with the letter f and is used to embed expressions inside string literals. F-strings allow you to embed variables, expressions, and other values inside a string, and are especially useful when you need to create a string that includes dynamic values.\n",
    "\n",
    "Here is an example of how to use f-strings in Python:"
   ]
  },
  {
   "cell_type": "code",
   "execution_count": null,
   "id": "60a962cb",
   "metadata": {},
   "outputs": [],
   "source": [
    "name = \"John\"\n",
    "age = 30\n",
    "\n",
    "# Use an f-string to interpolate the values of variables inside a string\n",
    "message = f\"Hello, my name is {name} and I am {age} years old.\"\n",
    "print(message)  # prints \"Hello, my name is John and I am 30 years old.\"\n",
    "\n",
    "# You can also use expressions inside f-strings\n",
    "pi = 3.14159\n",
    "radius = 2\n",
    "area = pi * radius**2\n",
    "print(f\"The area of a circle with radius {radius} is {area:.2f}.\")  # prints \"The area of a circle with radius 2 is 12.57.\"\n"
   ]
  },
  {
   "cell_type": "markdown",
   "id": "8cf26ec3",
   "metadata": {},
   "source": [
    "In this example, the f-string f\"Hello, my name is {name} and I am {age} years old.\" interpolates the values of the name and age variables into the string. The f-string f\"The area of a circle with radius {radius} is {area:.2f}.\" interpolates the value of the radius and area variables into the string and formats the area value to two decimal places using the .2f format specifier."
   ]
  },
  {
   "cell_type": "markdown",
   "id": "b4214299",
   "metadata": {},
   "source": [
    "In Python, a docstring is a string that appears at the beginning of a module, function, class, or method definition. Docstrings are used to provide documentation for the code and are usually written in a specific format that can be extracted and displayed by tools like pydoc.\n",
    "\n",
    "Here is an example of how to use docstrings in Python:"
   ]
  },
  {
   "cell_type": "code",
   "execution_count": null,
   "id": "4a3a3a1e",
   "metadata": {},
   "outputs": [],
   "source": [
    "def add(x, y):\n",
    "  \"\"\"\n",
    "  This function adds two numbers and returns the result.\n",
    "\n",
    "  Parameters:\n",
    "  x (int): The first number to add.\n",
    "  y (int): The second number to add.\n",
    "\n",
    "  Returns:\n",
    "  int: The sum of x and y.\n",
    "  \"\"\"\n",
    "  return x + y\n",
    "\n",
    "print(add.__doc__)  # prints the docstring for the add() function\n"
   ]
  },
  {
   "cell_type": "markdown",
   "id": "e9c80c38",
   "metadata": {},
   "source": [
    "In this example, the add() function has a docstring that describes what the function does and what parameters and return value it has. The docstring is written in a specific format, with a summary line followed by a more detailed description of the function's behavior."
   ]
  },
  {
   "cell_type": "markdown",
   "id": "336f4ae3",
   "metadata": {},
   "source": [
    "In Python, a set is an unordered collection of unique elements. Sets are commonly used to store and manipulate collections of data, and offer several advantages over other data types, such as lists and dictionaries.\n",
    "\n",
    "Some of the main characteristics of sets in Python are:\n",
    "\n",
    "Sets are unordered: the elements in a set have no specific order and cannot be accessed by index.\n",
    "Sets are unique: a set cannot contain duplicate elements.\n",
    "Sets are mutable: you can add and remove elements from a set.\n",
    "Here is an example of how to use sets in Python:"
   ]
  },
  {
   "cell_type": "code",
   "execution_count": null,
   "id": "7d4f74ff",
   "metadata": {},
   "outputs": [],
   "source": [
    "# Create a set using curly braces or the set() function\n",
    "s1 = {1, 2, 3}\n",
    "s2 = set([4, 5, 6])\n",
    "print(s1)  # prints {1, 2, 3}\n",
    "print(s2)  # prints {4, 5, 6}\n",
    "\n",
    "# Check if an element is in a set using the in operator\n",
    "print(1 in s1)  # prints True\n",
    "print(4 in s1)  # prints False\n",
    "\n",
    "# Add an element to a set using the add() method\n",
    "s1.add(4)\n",
    "print(s1)  # prints {1, 2, 3, 4}\n",
    "\n",
    "# Remove an element from a set using the remove() method\n",
    "s1.remove(2)\n",
    "print(s1)  # prints {1, 3, 4}\n",
    "\n",
    "# Perform set operations like union, intersection, and difference\n",
    "s3 = {3, 4, 5}\n",
    "print(s1 | s3)  # prints {1, 3, 4, 5} (union)\n",
    "print(s1 & s3)  # prints {3, 4} (intersection)\n",
    "print(s1 - s3)  # prints {1} (difference)\n"
   ]
  },
  {
   "cell_type": "markdown",
   "id": "5cf6ec8b",
   "metadata": {},
   "source": [
    "len(): returns the number of elements in the set\n",
    "clear(): removes all elements from the set\n",
    "copy(): creates a copy of the set\n",
    "pop(): removes and returns an arbitrary element from the set (raises a KeyError if the set is empty)\n",
    "add(): adds an element to the set\n",
    "update(): adds multiple elements to the set\n",
    "remove(): removes an element from the set (raises a KeyError if the element is not found)\n",
    "discard(): removes an element from the set if it is present\n",
    "difference_update(): removes all elements in the set that are also present in another set\n",
    "Here is an example of how to use some of these methods:"
   ]
  },
  {
   "cell_type": "code",
   "execution_count": null,
   "id": "01ec2445",
   "metadata": {},
   "outputs": [],
   "source": [
    "# Create a set of numbers\n",
    "s = {1, 2, 3, 4}\n",
    "\n",
    "# Get the number of elements in the set\n",
    "length = len(s)\n",
    "print(length)  # prints 4\n",
    "\n",
    "# Remove all elements from the set\n",
    "s.clear()\n",
    "print(s)  # prints set()\n",
    "\n",
    "# Create a copy of the set\n",
    "s = {1, 2, 3, 4}\n",
    "copy = s.copy()\n",
    "print(copy)  # prints {1, 2, 3, 4}\n",
    "\n",
    "# Remove and return an arbitrary element from the set\n",
    "element = s.pop()\n",
    "print(element)  # prints 1\n",
    "print(s)  # prints {2, 3, 4}\n",
    "\n",
    "# Add an element to the set\n",
    "s.add(5)\n",
    "print(s)  # prints {2, 3, 4, 5}\n",
    "\n",
    "# Add multiple elements to the set\n",
    "s.update([6, 7, 8])\n",
    "print(s)  # prints {2, 3, 4, 5, 6, 7, 8}\n",
    "\n",
    "# Remove an element from the set\n",
    "s.remove(7)\n",
    "print(s)  # prints {2, 3, 4, 5, 6, 8}\n",
    "\n",
    "# Remove an element from the set if it is present\n",
    "s.discard(9)\n",
    "print(s)  # prints {2, 3, 4, 5, 6, 8} (no change)\n",
    "\n",
    "# Remove all elements in the set that are also present in another set\n",
    "s.difference_update({4, 5, 6})\n",
    "print(s)  # prints {2, 3, 8}\n"
   ]
  },
  {
   "cell_type": "markdown",
   "id": "007e439a",
   "metadata": {},
   "source": [
    "In Python, a dictionary is a collection of key-value pairs. Dictionaries are also known as associative arrays or hash maps. They are used to store and manipulate data in a flexible and efficient way, and are especially useful when you need to map keys to values or when you have a dataset with records that have no inherent order.\n",
    "\n",
    "Some of the main characteristics of dictionaries in Python are:\n",
    "\n",
    "Dictionaries are unordered: the elements in a dictionary have no specific order and cannot be accessed by index.\n",
    "Dictionaries are mutable: you can add, remove, and modify the key-value pairs in a dictionary.\n",
    "Dictionaries are indexed by keys: you can access the values in a dictionary by their corresponding keys.\n",
    "Here is an example of how to use dictionaries in Python:"
   ]
  },
  {
   "cell_type": "code",
   "execution_count": null,
   "id": "461b0a0f",
   "metadata": {},
   "outputs": [],
   "source": [
    "# Create a dictionary using curly braces or the dict() function\n",
    "d1 = {'a': 1, 'b': 2, 'c': 3}\n",
    "d2 = dict(a=1, b=2, c=3)\n",
    "print(d1)  # prints {'a': 1, 'b': 2, 'c': 3}\n",
    "print(d2)  # prints {'a': 1, 'b': 2, 'c': 3}\n",
    "\n",
    "# Access a value in the dictionary by its key\n",
    "print(d1['a'])  # prints 1\n",
    "\n",
    "# Modify a value in the dictionary by its key\n",
    "d1['a'] = 10\n",
    "print(d1)  # prints {'a': 10, 'b': 2, 'c': 3}\n",
    "\n",
    "# Add a new key-value pair to the dictionary\n",
    "d1['d'] = 4\n",
    "print(d1)  # prints {'a': 10, 'b': 2, 'c': 3, 'd': 4}\n",
    "\n",
    "# Remove a key-value pair from the dictionary\n",
    "del d1['b']\n",
    "print(d1)  # prints {'a': 10, 'c': 3, 'd': 4}\n",
    "\n",
    "# Get a list of the keys or values in the dictionary\n",
    "keys = list(d1.keys())\n",
    "values = list(d1.values())\n",
    "print(keys)  # prints ['a', 'c', 'd']\n",
    "print(values)  # prints [10, 3, 4]\n",
    "\n",
    "# Iterate over the key-value pairs in the dictionary\n"
   ]
  },
  {
   "cell_type": "markdown",
   "id": "80830e76",
   "metadata": {},
   "source": [
    "Certainly! Here are a few more methods that you can use to manipulate dictionaries in Python:\n",
    "\n",
    "clear(): removes all key-value pairs from the dictionary\n",
    "copy(): creates a shallow copy of the dictionary\n",
    "pop(): removes and returns the value for a specific key (raises a KeyError if the key is not found)\n",
    "popitem(): removes and returns an arbitrary key-value pair from the dictionary (raises a KeyError if the dictionary is empty)\n",
    "update(): updates the dictionary with the key-value pairs from another dictionary or an iterable of key-value pairs\n",
    "get(): returns the value for a specific key, or a default value if the key is not found\n",
    "setdefault(): returns the value for a specific key, or adds a key-value pair to the dictionary if the key is not found\n",
    "Here is an example of how to use some of these methods:"
   ]
  },
  {
   "cell_type": "code",
   "execution_count": null,
   "id": "de4bc562",
   "metadata": {},
   "outputs": [],
   "source": [
    "# Create a dictionary using curly braces or the dict() function\n",
    "d1 = {'a': 1, 'b': 2, 'c': 3}\n",
    "d2 = dict(a=1, b=2, c=3)\n",
    "print(d1)  # prints {'a': 1, 'b': 2, 'c': 3}\n",
    "print(d2)  # prints {'a': 1, 'b': 2, 'c': 3}\n",
    "\n",
    "# Access a value in the dictionary by its key\n",
    "print(d1['a'])  # prints 1\n",
    "\n",
    "# Modify a value in the dictionary by its key\n",
    "d1['a'] = 10\n",
    "print(d1)  # prints {'a': 10, 'b': 2, 'c': 3}\n",
    "\n",
    "# Add a new key-value pair to the dictionary\n",
    "d1['d'] = 4\n",
    "print(d1)  # prints {'a': 10, 'b': 2, 'c': 3, 'd': 4}\n",
    "\n",
    "# Remove a key-value pair from the dictionary\n",
    "del d1['b']\n",
    "print(d1)  # prints {'a': 10, 'c': 3, 'd': 4}\n",
    "\n",
    "# Get a list of the keys or values in the dictionary\n",
    "keys = list(d1.keys())\n",
    "values = list(d1.values())\n",
    "print(keys)  # prints ['a', 'c', 'd']\n",
    "print(values)  # prints [10, 3, 4]\n",
    "\n",
    "# Iterate over the key-value pairs in the dictionary\n"
   ]
  },
  {
   "cell_type": "code",
   "execution_count": null,
   "id": "776ef1af",
   "metadata": {},
   "outputs": [],
   "source": [
    "# Create a dictionary\n",
    "d = {'a': 1, 'b': 2, 'c': 3}\n",
    "\n",
    "# Iterate over the key-value pairs in the dictionary\n",
    "for key, value in d.items():\n",
    "  print(f\"{key}: {value}\")\n",
    "\n",
    "# Output:\n",
    "# a: 1\n",
    "# b: 2\n",
    "# c: 3\n"
   ]
  },
  {
   "cell_type": "markdown",
   "id": "a0de2ef5",
   "metadata": {},
   "source": [
    "In this example, the items() method returns an iterable of key-value pairs, which can be unpacked into the key and value variables in the for loop. The loop then prints each key-value pair using string interpolation."
   ]
  },
  {
   "cell_type": "markdown",
   "id": "99c6d646",
   "metadata": {},
   "source": [
    "Certainly! Here are a few more methods that you can use to manipulate dictionaries in Python:\n",
    "\n",
    "clear(): removes all key-value pairs from the dictionary\n",
    "copy(): creates a shallow copy of the dictionary\n",
    "pop(): removes and returns the value for a specific key (raises a KeyError if the key is not found)\n",
    "popitem(): removes and returns an arbitrary key-value pair from the dictionary (raises a KeyError if the dictionary is empty)\n",
    "update(): updates the dictionary with the key-value pairs from another dictionary or an iterable of key-value pairs\n",
    "get(): returns the value for a specific key, or a default value if the key is not found\n",
    "setdefault(): returns the value for a specific key, or adds a key-value pair to the dictionary if the key is not found"
   ]
  },
  {
   "cell_type": "code",
   "execution_count": null,
   "id": "8dd95ea6",
   "metadata": {},
   "outputs": [],
   "source": [
    "# Create a dictionary\n",
    "d = {'a': 1, 'b': 2, 'c': 3}\n",
    "\n",
    "# Remove all key-value pairs from the dictionary\n",
    "d.clear()\n",
    "print(d)  # prints {}\n",
    "\n",
    "# Create a copy of the dictionary\n",
    "d = {'a': 1, 'b': 2, 'c': 3}\n",
    "copy = d.copy()\n",
    "print(copy)  # prints {'a': 1, 'b': 2, 'c': 3}\n",
    "\n",
    "# Remove and return the value for a specific key\n",
    "value = d.pop('b')\n",
    "print(value)  # prints 2\n",
    "print(d)  # prints {'a': 1, 'c': 3}\n",
    "\n",
    "# Remove and return an arbitrary key-value pair from the dictionary\n",
    "pair = d.popitem()\n",
    "print(pair)  # prints ('c', 3)\n",
    "print(d)  # prints {'a': 1}\n",
    "\n",
    "# Update the dictionary with the key-value pairs from another dictionary\n",
    "d.update({'b': 2, 'c': 3})\n",
    "print(d)  # prints {'a': 1, 'b': 2, 'c': 3}\n",
    "\n",
    "# Get the value for a specific key, or a default value if the key is not found\n",
    "value = d.get('a', 0)\n",
    "print(value)  # prints 1\n",
    "value = d.get('d', 0)\n",
    "print(value)  # prints 0\n",
    "\n",
    "# Get the value for a specific key, or add a key-value pair to the dictionary if the key is not found\n",
    "value = d.setdefault('d', 4)\n",
    "print(value)  # prints 4\n",
    "print(d)  # prints {'a': 1, 'b': 2, 'c': 3, 'd': 4}\n"
   ]
  },
  {
   "cell_type": "markdown",
   "id": "f269d09e",
   "metadata": {},
   "source": [
    "Recursion is a programming technique in which a function calls itself with a modified version of its own input. Recursion is used to solve problems that can be decomposed into smaller, similar subproblems, and is especially useful for problems that have a recursive structure or can be defined recursively.\n",
    "\n",
    "Here is a simple example of a recursive function in Python that computes the factorial of a number:"
   ]
  },
  {
   "cell_type": "code",
   "execution_count": null,
   "id": "55e1d344",
   "metadata": {},
   "outputs": [],
   "source": [
    "def factorial(n):\n",
    "  if n == 0:\n",
    "    return 1\n",
    "  return n * factorial(n - 1)\n",
    "\n",
    "print(factorial(5))  # prints 120 (5 x 4 x 3 x 2 x 1)\n"
   ]
  },
  {
   "cell_type": "markdown",
   "id": "c119b336",
   "metadata": {},
   "source": [
    "In this example, the factorial() function calls itself with n - 1 as its argument until n is equal to 0, at which point it returns 1. This causes the recursive calls to be stacked on top of each other, creating a \"chain\" of calls that are evaluated from the bottom up.\n",
    "\n",
    "It is important to include a \"base case\" in a recursive function, such as the if n == 0: return 1 statement in the factorial() function, to ensure that the recursion eventually terminates. If the base case is not included, the function will continue to call itself indefinitely and will cause a stack overflow error."
   ]
  },
  {
   "cell_type": "markdown",
   "id": "8e071014",
   "metadata": {},
   "source": [
    "In Python, you can use the else clause in a for loop to specify a block of code that should be executed after the loop has finished iterating, but only if the loop completed normally (i.e., if it was not interrupted by a break statement).\n",
    "\n",
    "Here is an example of how to use the else clause in a for loop:"
   ]
  },
  {
   "cell_type": "code",
   "execution_count": null,
   "id": "24a086fd",
   "metadata": {},
   "outputs": [],
   "source": [
    "# Iterate over a list of numbers\n",
    "for n in [1, 2, 3, 4, 5]:\n",
    "  if n % 2 == 0:\n",
    "    print(f\"{n} is even\")\n",
    "  else:\n",
    "    print(f\"{n} is odd\")\n",
    "else:\n",
    "  print(\"The loop completed normally.\")\n",
    "\n",
    "# Output:\n",
    "# 1 is odd\n",
    "# 2 is even\n",
    "# 3 is odd\n",
    "# 4 is even\n",
    "# 5 is odd\n",
    "# The loop completed normally.\n"
   ]
  },
  {
   "cell_type": "markdown",
   "id": "fc3088bd",
   "metadata": {},
   "source": [
    "In this example, the for loop iterates over a list of numbers and prints whether each number is even or odd. If the loop completes normally (i.e., if none of the numbers are divisible by 2), the else block is executed and prints a message."
   ]
  },
  {
   "cell_type": "markdown",
   "id": "e0291f90",
   "metadata": {},
   "source": [
    "Exception handling is a mechanism in Python that allows you to gracefully handle runtime errors and other exceptional events that may occur in your code. Exception handling is especially useful when you are working with external resources (e.g., files, databases, APIs) or when you are performing tasks that may fail due to unforeseen circumstances (e.g., network connectivity issues, invalid input).\n",
    "\n",
    "In Python, you can use the try-except statement to catch and handle exceptions. The basic syntax of the try-except statement is as follows:"
   ]
  },
  {
   "cell_type": "code",
   "execution_count": null,
   "id": "ddda31bb",
   "metadata": {},
   "outputs": [],
   "source": [
    "try:\n",
    "  # code that may raise an exception\n",
    "except ExceptionType:\n",
    "  # code to handle the exception\n"
   ]
  },
  {
   "cell_type": "markdown",
   "id": "d4fb19fc",
   "metadata": {},
   "source": [
    "Here is an example of how to use the try-except statement to handle a ZeroDivisionError exception:"
   ]
  },
  {
   "cell_type": "code",
   "execution_count": null,
   "id": "4d02b4de",
   "metadata": {},
   "outputs": [],
   "source": [
    "# Prompt the user for a number\n",
    "n = input(\"Enter a number: \")\n",
    "\n",
    "# Convert the input to an integer\n",
    "n = int(n)\n",
    "\n",
    "# Divide 1 by the number\n",
    "try:\n",
    "  result = 1 / n\n",
    "except ZeroDivisionError:\n",
    "  print(\"Cannot divide by zero.\")\n",
    "else:\n",
    "  print(result)\n"
   ]
  },
  {
   "cell_type": "markdown",
   "id": "8cda02ff",
   "metadata": {},
   "source": [
    "In this example, the try block contains the code that may raise an exception (i.e., the division operation). The except block contains the code that handles the exception if it occurs (i.e., the error message). The else block is optional and contains the code that should be executed if the try block completes normally (i.e., if no exceptions are raised)."
   ]
  },
  {
   "cell_type": "markdown",
   "id": "06747af7",
   "metadata": {},
   "source": [
    "Decorators: Decorators are functions that modify the behavior of other functions. You can use decorators to add additional functionality to your functions without modifying their code. Here is an example of how to use a decorator to time the execution of a function:"
   ]
  },
  {
   "cell_type": "code",
   "execution_count": null,
   "id": "d43eceec",
   "metadata": {},
   "outputs": [],
   "source": [
    "import time\n",
    "\n",
    "def timer(func):\n",
    "  def wrapper(*args, **kwargs):\n",
    "    start = time.perf_counter()\n",
    "    result = func(*args, **kwargs)\n",
    "    end = time.perf_counter()\n",
    "    print(f\"Executed in {end - start:.6f} seconds\")\n",
    "    return result\n",
    "  return wrapper\n",
    "\n",
    "@timer\n",
    "def heavy_computation(n):\n",
    "  # Perform some heavy computation\n",
    "  return sum(i * i for i in range(n))\n",
    "\n",
    "print(heavy_computation(1000000))  # prints Executed in 0.123450 seconds\n"
   ]
  },
  {
   "cell_type": "markdown",
   "id": "1f6f6145",
   "metadata": {},
   "source": [
    "In this example, the timer() function is a decorator that measures the execution time of the heavy_computation() function. The wrapper() function is a closure that encapsulates the start and end variables and the result variable. The @timer syntax applies the timer() decorator to the heavy_computation() function."
   ]
  },
  {
   "cell_type": "markdown",
   "id": "584c4e87",
   "metadata": {},
   "source": [
    "Asynchronous programming: Asynchronous programming allows you to perform multiple tasks concurrently using async/await syntax. You can use asynchronous programming to improve the performance and scalability of your programs, especially when working with network operations or I/O-bound tasks. Here is an example of how to use asynchronous programming to download a web page using the aiohttp library:"
   ]
  },
  {
   "cell_type": "code",
   "execution_count": null,
   "id": "9b818844",
   "metadata": {},
   "outputs": [],
   "source": [
    "import aiohttp\n",
    "import asyncio\n",
    "\n",
    "async def download_page(session, url):\n",
    "  async with session.get(url) as response:\n",
    "    return await response.text()\n",
    "\n",
    "async def main():\n",
    "  async with aiohttp.ClientSession() as session:\n",
    "    html = await download_page(session, 'https://www.example.com')\n",
    "    print(html)\n",
    "\n",
    "asyncio.run(main())\n"
   ]
  },
  {
   "cell_type": "markdown",
   "id": "5ac0893f",
   "metadata": {},
   "source": [
    "In this example, the download_page() function is an asynchronous function that uses the async with statement to download the contents of a web page asynchronously. The main() function is also an asynchronous function that uses the async with statement to create a session and call the download_page() function. The asyncio.run() function is used to execute the main() function and wait for the results."
   ]
  },
  {
   "cell_type": "markdown",
   "id": "e044706d",
   "metadata": {},
   "source": [
    "Concurrent programming: Concurrent programming allows you to perform multiple tasks concurrently using threads or processes. You can use concurrent programming to improve the performance and scalability of your programs, especially when working with CPU-bound tasks. Here is an example of how to use concurrent programming to compute the sum of a list of numbers using the concurrent.futures module:"
   ]
  },
  {
   "cell_type": "code",
   "execution_count": null,
   "id": "7b9520c6",
   "metadata": {},
   "outputs": [],
   "source": [
    "import concurrent.futures\n",
    "\n",
    "def compute_sum(numbers):\n",
    "  return sum(numbers)\n",
    "\n",
    "# Create a list of numbers\n",
    "numbers = [1, 2, 3, 4, 5, 6, 7, 8, 9, 10]\n",
    "\n",
    "# Create a ThreadPoolExecutor with 4 threads\n",
    "with concurrent.futures.ThreadPoolExecutor(max_workers=4) as executor:\n",
    "  # Submit the compute_sum() function to the executor with the numbers list as an argument\n",
    "  future = executor.submit(compute_sum, numbers)\n",
    "  # Wait for the result and print it\n",
    "  result = future.result()\n",
    "  print(result)  # prints 55\n"
   ]
  },
  {
   "cell_type": "markdown",
   "id": "78293fb4",
   "metadata": {},
   "source": [
    "In this example, the compute_sum() function computes the sum of a list of numbers. The ThreadPoolExecutor class creates a pool of threads and allows you to submit tasks to the pool using the submit() method. The future object represents the result of the task and has a result() method that returns the final value when the task is complete."
   ]
  },
  {
   "cell_type": "code",
   "execution_count": null,
   "id": "6c40978e",
   "metadata": {},
   "outputs": [],
   "source": []
  }
 ],
 "metadata": {
  "kernelspec": {
   "display_name": "Python 3 (ipykernel)",
   "language": "python",
   "name": "python3"
  },
  "language_info": {
   "codemirror_mode": {
    "name": "ipython",
    "version": 3
   },
   "file_extension": ".py",
   "mimetype": "text/x-python",
   "name": "python",
   "nbconvert_exporter": "python",
   "pygments_lexer": "ipython3",
   "version": "3.9.7"
  }
 },
 "nbformat": 4,
 "nbformat_minor": 5
}
